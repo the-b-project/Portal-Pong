{
 "cells": [
  {
   "cell_type": "code",
   "execution_count": 1,
   "metadata": {},
   "outputs": [
    {
     "name": "stdout",
     "output_type": "stream",
     "text": [
      "pygame 2.1.2 (SDL 2.0.18, Python 3.10.2)\n",
      "Hello from the pygame community. https://www.pygame.org/contribute.html\n"
     ]
    },
    {
     "ename": "SystemExit",
     "evalue": "",
     "output_type": "error",
     "traceback": [
      "An exception has occurred, use %tb to see the full traceback.\n",
      "\u001b[1;31mSystemExit\u001b[0m\n"
     ]
    },
    {
     "name": "stderr",
     "output_type": "stream",
     "text": [
      "c:\\Users\\bwinterleitner\\AppData\\Local\\Programs\\Python\\Python310\\lib\\site-packages\\IPython\\core\\interactiveshell.py:3406: UserWarning: To exit: use 'exit', 'quit', or Ctrl-D.\n",
      "  warn(\"To exit: use 'exit', 'quit', or Ctrl-D.\", stacklevel=1)\n"
     ]
    }
   ],
   "source": [
    "import pygame as pg\n",
    "import sys\n",
    "\n",
    "from settings import *\n",
    "from level import Level\n",
    "\n",
    "class Game:\n",
    "\tdef __init__(self):\n",
    "\t\t  \n",
    "\t\t# general setup\n",
    "\t\tpg.init()\n",
    "\n",
    "\t\tpg.font.init() # initialize the font\n",
    "\t\tpg.font.get_init() # check, whether the font was initialized (returns true)\n",
    "\n",
    "\t\tself.screen = pg.display.set_mode((WIDTH, HEIGHT))\n",
    "\t\tpg.display.set_caption('Portal Pong')\n",
    "\t\tself.clock = pg.time.Clock()\n",
    "\t\tself.level = Level()\n",
    "\n",
    "\tdef run(self):\n",
    "\t\twhile True:\n",
    "\t\t\tfor event in pg.event.get():\n",
    "\t\t\t\tif event.type == pg.QUIT:\n",
    "\t\t\t\t\tpg.quit()\n",
    "\t\t\t\t\tsys.exit()\n",
    "\n",
    "\t\t\tself.screen.fill(\"black\")\n",
    "\t\t\tself.level.run()\n",
    "\t\t\tpg.display.update()\n",
    "\t\t\tself.clock.tick(FPS)\n",
    "\n",
    "if __name__ == '__main__':\n",
    "\tgame = Game()\n",
    "\tgame.run()"
   ]
  }
 ],
 "metadata": {
  "kernelspec": {
   "display_name": "Python 3",
   "language": "python",
   "name": "python3"
  },
  "language_info": {
   "codemirror_mode": {
    "name": "ipython",
    "version": 3
   },
   "file_extension": ".py",
   "mimetype": "text/x-python",
   "name": "python",
   "nbconvert_exporter": "python",
   "pygments_lexer": "ipython3",
   "version": "3.10.2"
  },
  "orig_nbformat": 4,
  "vscode": {
   "interpreter": {
    "hash": "d1f0e352b7a43ff33d9bd9df8054ecb30710a948898a2593ab6824d027a3fd35"
   }
  }
 },
 "nbformat": 4,
 "nbformat_minor": 2
}
